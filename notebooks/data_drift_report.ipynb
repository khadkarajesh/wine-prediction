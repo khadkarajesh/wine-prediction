{
 "cells": [
  {
   "cell_type": "code",
   "execution_count": 1,
   "id": "6932a769",
   "metadata": {},
   "outputs": [],
   "source": [
    "import pandas as pd\n",
    "\n",
    "from sqlalchemy import create_engine\n",
    "from sqlalchemy.ext.declarative import declarative_base\n",
    "from sqlalchemy.orm import sessionmaker\n",
    "from sqlalchemy import MetaData\n",
    "\n",
    "from evidently.dashboard import Dashboard\n",
    "from evidently.tabs import DataDriftTab"
   ]
  },
  {
   "cell_type": "markdown",
   "id": "89d8ce69",
   "metadata": {},
   "source": [
    "### Database connection"
   ]
  },
  {
   "cell_type": "code",
   "execution_count": 2,
   "id": "f507791f",
   "metadata": {},
   "outputs": [],
   "source": [
    "db_host = \"localhost\"\n",
    "db_name = \"wine\"\n",
    "db_pass = \"1234\"\n",
    "db_user = \"rajeshkhadka\"\n",
    "\n",
    "engine = create_engine(f\"postgresql://{db_user}:{db_pass}@{db_host}/{db_name}\")\n",
    "Base = declarative_base()\n",
    "metadata = MetaData(engine)\n",
    "\n",
    "Session = sessionmaker(bind=engine)\n",
    "session = Session()"
   ]
  },
  {
   "cell_type": "code",
   "execution_count": 10,
   "id": "5f8d8768",
   "metadata": {},
   "outputs": [],
   "source": [
    "predicted_wines_df = pd.read_sql('select fixed_acidity, volatile_acidity from wines', con=engine)\n",
    "training_wines_df = pd.read_sql('select fixed_acidity, volatile_acidity from training_wines', con=engine)"
   ]
  },
  {
   "cell_type": "code",
   "execution_count": 11,
   "id": "7140f126",
   "metadata": {},
   "outputs": [
    {
     "name": "stdout",
     "output_type": "stream",
     "text": [
      "<class 'pandas.core.frame.DataFrame'>\n",
      "RangeIndex: 19491 entries, 0 to 19490\n",
      "Data columns (total 2 columns):\n",
      " #   Column            Non-Null Count  Dtype  \n",
      "---  ------            --------------  -----  \n",
      " 0   fixed_acidity     19491 non-null  float64\n",
      " 1   volatile_acidity  19491 non-null  float64\n",
      "dtypes: float64(2)\n",
      "memory usage: 304.7 KB\n"
     ]
    }
   ],
   "source": [
    "training_wines_df.info()"
   ]
  },
  {
   "cell_type": "code",
   "execution_count": 12,
   "id": "85238df3",
   "metadata": {},
   "outputs": [],
   "source": [
    "wine_data_drift_report = Dashboard(tabs=[DataDriftTab()])\n",
    "wine_data_drift_report.calculate(predicted_wines_df[:], training_wines_df[:100])\n",
    "wine_data_drift_report.save(\"reports/data_drift.html\")"
   ]
  },
  {
   "cell_type": "code",
   "execution_count": null,
   "id": "5c5cbe3b",
   "metadata": {},
   "outputs": [],
   "source": []
  }
 ],
 "metadata": {
  "kernelspec": {
   "display_name": "Python 3 (ipykernel)",
   "language": "python",
   "name": "python3"
  },
  "language_info": {
   "codemirror_mode": {
    "name": "ipython",
    "version": 3
   },
   "file_extension": ".py",
   "mimetype": "text/x-python",
   "name": "python",
   "nbconvert_exporter": "python",
   "pygments_lexer": "ipython3",
   "version": "3.9.4"
  }
 },
 "nbformat": 4,
 "nbformat_minor": 5
}

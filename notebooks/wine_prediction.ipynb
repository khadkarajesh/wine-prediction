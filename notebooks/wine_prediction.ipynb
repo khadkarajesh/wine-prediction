{
 "cells": [
  {
   "cell_type": "code",
   "execution_count": 4,
   "id": "833ca551",
   "metadata": {},
   "outputs": [],
   "source": [
    "import pandas as pd\n",
    "from pathlib import Path\n",
    "import sys\n",
    "\n",
    "sys.path.append('../')\n",
    "\n",
    "ROOT_DIR = Path(\"../\")\n",
    "DATA_DIR = ROOT_DIR / 'data'\n",
    "\n",
    "df_white_wine = pd.read_csv(DATA_DIR /'winequality-white.csv', sep=';')\n",
    "df_red_wine = pd.read_csv(DATA_DIR /'winequality-red.csv', sep=';')\n",
    "df_white_wine['label'] = 'white'\n",
    "df_red_wine['label'] = 'red'\n",
    "df = pd.DataFrame()\n",
    "df = df.append(df_white_wine, ignore_index=True)\n",
    "df = df.append(df_red_wine, ignore_index=True)\n",
    "df.to_csv(\"wine.csv\", index=False)"
   ]
  },
  {
   "cell_type": "code",
   "execution_count": 5,
   "id": "502deedd",
   "metadata": {},
   "outputs": [],
   "source": [
    "df = pd.read_csv(DATA_DIR/\"wine.csv\")"
   ]
  },
  {
   "cell_type": "code",
   "execution_count": 6,
   "id": "5397a4f6",
   "metadata": {},
   "outputs": [
    {
     "name": "stderr",
     "output_type": "stream",
     "text": [
      "/Users/rajeshkhadka/PycharmProjects/wine-prediction/venv/lib/python3.9/site-packages/sklearn/linear_model/_logistic.py:814: ConvergenceWarning: lbfgs failed to converge (status=1):\n",
      "STOP: TOTAL NO. of ITERATIONS REACHED LIMIT.\n",
      "\n",
      "Increase the number of iterations (max_iter) or scale the data as shown in:\n",
      "    https://scikit-learn.org/stable/modules/preprocessing.html\n",
      "Please also refer to the documentation for alternative solver options:\n",
      "    https://scikit-learn.org/stable/modules/linear_model.html#logistic-regression\n",
      "  n_iter_i = _check_optimize_result(\n"
     ]
    },
    {
     "data": {
      "text/plain": [
       "{'accuracy': 0.985081585081585}"
      ]
     },
     "execution_count": 6,
     "metadata": {},
     "output_type": "execute_result"
    }
   ],
   "source": [
    "TRAINING_DATA_PATH = DATA_DIR / 'wine.csv'\n",
    "MODEL_DIR = ROOT_DIR /'api/ml/models'\n",
    "from api.ml.training import train\n",
    "train(TRAINING_DATA_PATH, MODEL_DIR)"
   ]
  },
  {
   "cell_type": "code",
   "execution_count": null,
   "id": "76579a12",
   "metadata": {},
   "outputs": [],
   "source": []
  }
 ],
 "metadata": {
  "kernelspec": {
   "display_name": "Python 3 (ipykernel)",
   "language": "python",
   "name": "python3"
  },
  "language_info": {
   "codemirror_mode": {
    "name": "ipython",
    "version": 3
   },
   "file_extension": ".py",
   "mimetype": "text/x-python",
   "name": "python",
   "nbconvert_exporter": "python",
   "pygments_lexer": "ipython3",
   "version": "3.9.4"
  }
 },
 "nbformat": 4,
 "nbformat_minor": 5
}
